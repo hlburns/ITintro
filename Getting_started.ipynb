{
 "cells": [
  {
   "cell_type": "markdown",
   "metadata": {
    "collapsed": true
   },
   "source": [
    "# <center>  *Getting Started With Python* </center>"
   ]
  },
  {
   "cell_type": "markdown",
   "metadata": {},
   "source": [
    "## Introduction ##\n",
    "\n",
    "Hopefully you have read the installing anacoda guides and have set up either Spyder or notebooks to run python.\n",
    "\n",
    "If you have used MATLAB before you may find [this presentation](https://github.com/ResearchComputing/Final_Tutorials/blob/master/Python_Matlab_Users/python_matlab_users.pdf) useful.\n",
    "\n",
    "Here you will learn the very basics of python before we point you in the direction of more indepth tutorials. \n",
    "\n",
    "* Modules\n",
    "* Some basic syntax\n",
    "* Reading and writing CSV files\n",
    "* Reading and writing NetCDF files\n",
    "* Basic ploting \n",
    "\n",
    "## Modules ##\n",
    "\n",
    "You do not need to reinvent the wheel. The are hundreds of \"modules\" availble that have prewritten functions but to keep your code simple python requires you to just \"import\" in the modules required. You should do this at the start of your code."
   ]
  },
  {
   "cell_type": "code",
   "execution_count": 1,
   "metadata": {
    "collapsed": false
   },
   "outputs": [],
   "source": [
    "# Use the hash key to write comments (alt + 3 on a mac)\n",
    "import numpy as np # is the fundamental package for scientific computing with Python."
   ]
  },
  {
   "cell_type": "markdown",
   "metadata": {},
   "source": [
    "Numpy contains all the basic tools for scientific computing like mean, sum and we can use these now by typing np.func() where func is your function suchas sum or mean. Ipython allows you to use the tab button to see what options are available. Try it in the cell below"
   ]
  },
  {
   "cell_type": "code",
   "execution_count": null,
   "metadata": {
    "collapsed": true
   },
   "outputs": [],
   "source": [
    "np."
   ]
  },
  {
   "cell_type": "markdown",
   "metadata": {},
   "source": [
    "First we will create an array an\n"
   ]
  },
  {
   "cell_type": "code",
   "execution_count": 2,
   "metadata": {
    "collapsed": false
   },
   "outputs": [],
   "source": [
    "a = np.linspace(1,20,20) # Create an array 1 -20 with 20 values equally spaced"
   ]
  },
  {
   "cell_type": "markdown",
   "metadata": {},
   "source": [
    "You won't see any output, if you want to see it just type the variable name"
   ]
  },
  {
   "cell_type": "code",
   "execution_count": 3,
   "metadata": {
    "collapsed": false
   },
   "outputs": [
    {
     "data": {
      "text/plain": [
       "array([  1.,   2.,   3.,   4.,   5.,   6.,   7.,   8.,   9.,  10.,  11.,\n",
       "        12.,  13.,  14.,  15.,  16.,  17.,  18.,  19.,  20.])"
      ]
     },
     "execution_count": 3,
     "metadata": {},
     "output_type": "execute_result"
    }
   ],
   "source": [
    "a"
   ]
  },
  {
   "cell_type": "code",
   "execution_count": 4,
   "metadata": {
    "collapsed": false
   },
   "outputs": [
    {
     "name": "stdout",
     "output_type": "stream",
     "text": [
      "('first', 1.0)\n",
      "('last', 20.0)\n",
      "('first 3', array([ 1.,  2.,  3.]))\n",
      "('last 3', array([ 18.,  19.,  20.]))\n",
      "('skipping every other item', array([  1.,   3.,   5.,   7.,   9.,  11.,  13.,  15.,  17.,  19.]))\n"
     ]
    }
   ],
   "source": [
    "# access items from a list\n",
    "print('first', a[0])\n",
    "print('last', a[-1])\n",
    "print('first 3', a[:3])\n",
    "print('last 3', a[-3:])\n",
    "print('skipping every other item', a[0:20:2])"
   ]
  },
  {
   "cell_type": "markdown",
   "metadata": {},
   "source": [
    "In terms of set notation, python indexing is left inclusive, right exclusive. If you remember this, you will never go wrong."
   ]
  },
  {
   "cell_type": "code",
   "execution_count": 5,
   "metadata": {
    "collapsed": false
   },
   "outputs": [
    {
     "ename": "IndexError",
     "evalue": "index 20 is out of bounds for axis 0 with size 20",
     "output_type": "error",
     "traceback": [
      "\u001b[1;31m---------------------------------------------------------------------------\u001b[0m",
      "\u001b[1;31mIndexError\u001b[0m                                Traceback (most recent call last)",
      "\u001b[1;32m<ipython-input-5-52354c7d4aa7>\u001b[0m in \u001b[0;36m<module>\u001b[1;34m()\u001b[0m\n\u001b[0;32m      1\u001b[0m \u001b[1;31m# that means we get an error from the following\u001b[0m\u001b[1;33m\u001b[0m\u001b[1;33m\u001b[0m\u001b[0m\n\u001b[0;32m      2\u001b[0m \u001b[0mN\u001b[0m \u001b[1;33m=\u001b[0m \u001b[0mlen\u001b[0m\u001b[1;33m(\u001b[0m\u001b[0ma\u001b[0m\u001b[1;33m)\u001b[0m \u001b[1;31m# length of array a\u001b[0m\u001b[1;33m\u001b[0m\u001b[0m\n\u001b[1;32m----> 3\u001b[1;33m \u001b[0ma\u001b[0m\u001b[1;33m[\u001b[0m\u001b[0mN\u001b[0m\u001b[1;33m]\u001b[0m\u001b[1;33m\u001b[0m\u001b[0m\n\u001b[0m",
      "\u001b[1;31mIndexError\u001b[0m: index 20 is out of bounds for axis 0 with size 20"
     ]
    }
   ],
   "source": [
    "# that means we get an error from the following\n",
    "N = len(a) # length of array a\n",
    "a[N]\n"
   ]
  },
  {
   "cell_type": "code",
   "execution_count": 6,
   "metadata": {
    "collapsed": false
   },
   "outputs": [
    {
     "name": "stdout",
     "output_type": "stream",
     "text": [
      "Student\n"
     ]
    }
   ],
   "source": [
    "# this index notation also applies to strings\n",
    "name = 'New Student'\n",
    "print(name[4::])"
   ]
  },
  {
   "cell_type": "markdown",
   "metadata": {},
   "source": [
    "## Reading and writing CSV ##"
   ]
  },
  {
   "cell_type": "markdown",
   "metadata": {},
   "source": [
    "Now we're going to play around with a small amout of data. CSV that you have just loaded stands for comma seporated values. You might get excel files exported like this if you are working with small data sets. "
   ]
  },
  {
   "cell_type": "code",
   "execution_count": 7,
   "metadata": {
    "collapsed": true
   },
   "outputs": [],
   "source": [
    "# First import csv module\n",
    "import csv"
   ]
  },
  {
   "cell_type": "markdown",
   "metadata": {},
   "source": [
    "Writing"
   ]
  },
  {
   "cell_type": "code",
   "execution_count": 8,
   "metadata": {
    "collapsed": true
   },
   "outputs": [],
   "source": [
    "# first we'll make a csv file to read\n",
    "# The newfile is created with the variable filename\n",
    "filename = open('newfile','w')\n",
    "# Now we tell the csv module we want to write to filename\n",
    "writer = csv.writer(filename)\n",
    "# writer its now ready to write, lets write a file of 'a' that we created before\n",
    "writer.writerow(a)\n",
    "# Now you must close the file\n",
    "filename.close() "
   ]
  },
  {
   "cell_type": "markdown",
   "metadata": {},
   "source": [
    "Reading"
   ]
  },
  {
   "cell_type": "code",
   "execution_count": 16,
   "metadata": {
    "collapsed": false
   },
   "outputs": [],
   "source": [
    "# nowlets read in newfile and printout its contents\n",
    "filename = open('newfile','r') # Note 'r' here instead of 'w'\n",
    "reader = csv.reader(filename)"
   ]
  },
  {
   "cell_type": "markdown",
   "metadata": {},
   "source": [
    "A quick introduction to for loops. "
   ]
  },
  {
   "cell_type": "code",
   "execution_count": 17,
   "metadata": {
    "collapsed": false
   },
   "outputs": [
    {
     "name": "stdout",
     "output_type": "stream",
     "text": [
      "['1.0', '2.0', '3.0', '4.0', '5.0', '6.0', '7.0', '8.0', '9.0', '10.0', '11.0', '12.0', '13.0', '14.0', '15.0', '16.0', '17.0', '18.0', '19.0', '20.0']\n"
     ]
    }
   ],
   "source": [
    "# Read in each row of a file\n",
    "for row in reader: # You need a colon to start your for loop\n",
    "    print row # indent four spaces to interate over for loop\n",
    "\n",
    "# return to normal indentation to exit for loop\n",
    "# Now python doesn't know what kind of data it read in\n",
    "# Lets make an array and fill it\n",
    "# you must set your array size b \n",
    "# fill it with zeros, and it's going to want to be the same shape as row\n",
    "# BUT you want a floating point data type (numbers with decimal point)\n",
    "b = np.zeros_like(row,dtype=np.float)\n",
    "# For an index i in the range of the length of row :\n",
    "for i in range(len(row)):\n",
    "    # Fill each index i of b with a floating point value from row\n",
    "    b[i] = float(row[i]) \n",
    "\n",
    "# Now you must close the file\n",
    "filename.close() "
   ]
  },
  {
   "cell_type": "markdown",
   "metadata": {},
   "source": [
    "Above you see the printed strings of row \n",
    "Now let's just test that we've read in a and our new variable b:"
   ]
  },
  {
   "cell_type": "code",
   "execution_count": 19,
   "metadata": {
    "collapsed": false
   },
   "outputs": [
    {
     "data": {
      "text/plain": [
       "array([  1.,   2.,   3.,   4.,   5.,   6.,   7.,   8.,   9.,  10.,  11.,\n",
       "        12.,  13.,  14.,  15.,  16.,  17.,  18.,  19.,  20.])"
      ]
     },
     "execution_count": 19,
     "metadata": {},
     "output_type": "execute_result"
    }
   ],
   "source": [
    "b"
   ]
  },
  {
   "cell_type": "markdown",
   "metadata": {},
   "source": [
    "More indepth csv reading/writing can be found [here](https://pymotw.com/2/csv/) "
   ]
  },
  {
   "cell_type": "markdown",
   "metadata": {},
   "source": [
    "## Reading and writing netcdf ##\n",
    "\n",
    "If you are working with any model output it is likely you will  work with netcdf files. These are self describing files and an excellent way for storing data. You'll learn more as we write out a netcdf file.\n",
    "\n",
    "**By default anaconda does not include netcdf module you will have to install it**\n",
    "\n",
    "```bash\n",
    "conda install netCDF4\n",
    "```\n",
    "\n",
    "now we must import it"
   ]
  },
  {
   "cell_type": "code",
   "execution_count": 16,
   "metadata": {
    "collapsed": false
   },
   "outputs": [],
   "source": [
    "import netCDF4\n",
    "import math # We need this for some mathematical constants suchas pi."
   ]
  },
  {
   "cell_type": "markdown",
   "metadata": {},
   "source": [
    "Now lets say you would like generate a windress pattern like you see in the southern ocean with your max $\\tau_o$ set to $0.2Nm^-2$\n",
    "\n",
    "$\\tau_s(y)=\\tau_0 sin(\\frac{\\pi y}{Ly})$\n",
    "\n",
    "If you know latex code you can render this directly in markdown cells and figure lables"
   ]
  },
  {
   "cell_type": "code",
   "execution_count": 55,
   "metadata": {
    "collapsed": false
   },
   "outputs": [],
   "source": [
    "# Difine domain area\n",
    "x = np.linspace(0,200,201) # x dir is 0 - 100 \n",
    "y = np.linspace(0,100,101) # y dir is 0 - 100\n",
    "[X, Y] = np.meshgrid(x, y) # Make an array of the grid Y \n",
    "tau=0.2*(np.sin((Y)*(math.pi/y[-1]))) # The equation above"
   ]
  },
  {
   "cell_type": "markdown",
   "metadata": {},
   "source": [
    "So lets plot what we've made, first we have to import the plotting module and give it an abbreviated name plt"
   ]
  },
  {
   "cell_type": "code",
   "execution_count": 47,
   "metadata": {
    "collapsed": false
   },
   "outputs": [],
   "source": [
    "import matplotlib.pyplot as plt\n",
    "# % is some special note book fuctions here this allows your to view plots inline with code\n",
    "%matplotlib inline"
   ]
  },
  {
   "cell_type": "markdown",
   "metadata": {},
   "source": [
    "[Click for a list of \"magics\"](https://ipython.org/ipython-doc/3/interactive/magics.html)"
   ]
  },
  {
   "cell_type": "code",
   "execution_count": 57,
   "metadata": {
    "collapsed": false
   },
   "outputs": [
    {
     "data": {
      "text/plain": [
       "<matplotlib.text.Text at 0x2b49477cc0d0>"
      ]
     },
     "execution_count": 57,
     "metadata": {},
     "output_type": "execute_result"
    },
    {
     "data": {
      "image/png": "[encoded data removed]",
      "text/plain": [
       "<matplotlib.figure.Figure at 0x2b49478baf10>"
      ]
     },
     "metadata": {},
     "output_type": "display_data"
    }
   ],
   "source": [
    "plt.plot(y,tau[:,50]) # A simple plot of tau agaist y\n",
    "plt.title('Surface Wind Stress $N/m^2$')\n",
    "plt.ylabel(r'$\\tau$ ($N/m^2$)') \n",
    "plt.xlabel('Meridional Distance (m)')"
   ]
  },
  {
   "cell_type": "markdown",
   "metadata": {},
   "source": [
    "Now to create the netcdf file."
   ]
  },
  {
   "cell_type": "code",
   "execution_count": 67,
   "metadata": {
    "collapsed": false
   },
   "outputs": [],
   "source": [
    "f=netCDF4.Dataset('Wind.nc','w')\n",
    "f.createDimension('X',len(x))\n",
    "f.createDimension('Y',len(y))\n",
    "tau_nc=f.createVariable('tau','double',('X','Y'))\n",
    "tau_nc[:]=tau\n",
    "f.close()"
   ]
  },
  {
   "cell_type": "markdown",
   "metadata": {},
   "source": [
    "Note one you have started writing to file f you must close it ```f.close``` before doing any more or you will get a permissions error!\n",
    "\n",
    "Download [ncview](http://meteora.ucsd.edu/~pierce/ncview_home_page.html) for easy viewing of this file. "
   ]
  },
  {
   "cell_type": "code",
   "execution_count": 73,
   "metadata": {
    "collapsed": false
   },
   "outputs": [
    {
     "name": "stdout",
     "output_type": "stream",
     "text": [
      "Once deleted, variables cannot be recovered. Proceed (y/[n])?  y\n"
     ]
    }
   ],
   "source": [
    "# Clear the vaiables\n",
    "%reset_selective tau "
   ]
  },
  {
   "cell_type": "markdown",
   "metadata": {},
   "source": [
    "now tau has been removed it will appear undefined"
   ]
  },
  {
   "cell_type": "code",
   "execution_count": 74,
   "metadata": {
    "collapsed": false
   },
   "outputs": [
    {
     "ename": "NameError",
     "evalue": "name 'tau' is not defined",
     "output_type": "error",
     "traceback": [
      "\u001b[1;31m---------------------------------------------------------------------------\u001b[0m",
      "\u001b[1;31mNameError\u001b[0m                                 Traceback (most recent call last)",
      "\u001b[1;32m<ipython-input-74-2e0cac639269>\u001b[0m in \u001b[0;36m<module>\u001b[1;34m()\u001b[0m\n\u001b[1;32m----> 1\u001b[1;33m \u001b[0mtau\u001b[0m\u001b[1;33m\u001b[0m\u001b[0m\n\u001b[0m",
      "\u001b[1;31mNameError\u001b[0m: name 'tau' is not defined"
     ]
    }
   ],
   "source": [
    "tau"
   ]
  },
  {
   "cell_type": "code",
   "execution_count": 76,
   "metadata": {
    "collapsed": false
   },
   "outputs": [],
   "source": [
    "f=netCDF4.Dataset('Wind.nc','r') # read in this file\n",
    "tau = f.variables['tau'] # read in this variable"
   ]
  },
  {
   "cell_type": "code",
   "execution_count": 77,
   "metadata": {
    "collapsed": false
   },
   "outputs": [
    {
     "data": {
      "text/plain": [
       "<type 'netCDF4._netCDF4.Variable'>\n",
       "float64 tau(X, Y)\n",
       "unlimited dimensions: \n",
       "current shape = (201, 101)\n",
       "filling on, default _FillValue of 9.96920996839e+36 used"
      ]
     },
     "execution_count": 77,
     "metadata": {},
     "output_type": "execute_result"
    }
   ],
   "source": [
    "# You can now see the attributes\n",
    "tau"
   ]
  },
  {
   "cell_type": "code",
   "execution_count": 78,
   "metadata": {
    "collapsed": false
   },
   "outputs": [
    {
     "data": {
      "text/plain": [
       "array([[  0.00000000e+00,   0.00000000e+00,   0.00000000e+00, ...,\n",
       "          0.00000000e+00,   0.00000000e+00,   0.00000000e+00],\n",
       "       [  0.00000000e+00,   0.00000000e+00,   0.00000000e+00, ...,\n",
       "          0.00000000e+00,   0.00000000e+00,   6.28215182e-03],\n",
       "       [  6.28215182e-03,   6.28215182e-03,   6.28215182e-03, ...,\n",
       "          6.28215182e-03,   6.28215182e-03,   6.28215182e-03],\n",
       "       ..., \n",
       "       [  6.28215182e-03,   6.28215182e-03,   6.28215182e-03, ...,\n",
       "          6.28215182e-03,   6.28215182e-03,   6.28215182e-03],\n",
       "       [  6.28215182e-03,  -6.43249060e-17,  -6.43249060e-17, ...,\n",
       "         -6.43249060e-17,  -6.43249060e-17,  -6.43249060e-17],\n",
       "       [ -6.43249060e-17,  -6.43249060e-17,  -6.43249060e-17, ...,\n",
       "         -6.43249060e-17,  -6.43249060e-17,  -6.43249060e-17]])"
      ]
     },
     "execution_count": 78,
     "metadata": {},
     "output_type": "execute_result"
    }
   ],
   "source": [
    "# The array is accessed:\n",
    "tau[:]"
   ]
  },
  {
   "cell_type": "markdown",
   "metadata": {},
   "source": [
    "# Next steps\n",
    "\n",
    "Ryan Abernathy has kindly put up his introduction to python notebooks which can be found in the following links:\n",
    "\n",
    "1. [Basic Python](http://nbviewer.jupyter.org/github/rabernat/python_teaching/blob/master/one_day_workshop/01_core_python.ipynb)\n",
    "2. [Numpy and Matplotlib](http://nbviewer.jupyter.org/github/rabernat/python_teaching/blob/master/one_day_workshop/02_numpy_and_matplotlib.ipynb)\n",
    "3. [Pandas with Earthquake Data](http://nbviewer.jupyter.org/github/rabernat/python_teaching/blob/master/one_day_workshop/03_pandas_earthquake.ipynb)\n",
    "4. [xray and Pacific SSTs](http://nbviewer.jupyter.org/github/rabernat/python_teaching/blob/master/one_day_workshop/04_xray_sst.ipynb)\n",
    "\n",
    "Any datasets required are found [here](https://github.com/rabernat/python_teaching)"
   ]
  },
  {
   "cell_type": "code",
   "execution_count": null,
   "metadata": {
    "collapsed": true
   },
   "outputs": [],
   "source": []
  }
 ],
 "metadata": {
  "anaconda-cloud": {},
  "kernelspec": {
   "display_name": "Python [conda root]",
   "language": "python",
   "name": "conda-root-py"
  },
  "language_info": {
   "codemirror_mode": {
    "name": "ipython",
    "version": 2
   },
   "file_extension": ".py",
   "mimetype": "text/x-python",
   "name": "python",
   "nbconvert_exporter": "python",
   "pygments_lexer": "ipython2",
   "version": "2.7.12"
  }
 },
 "nbformat": 4,
 "nbformat_minor": 0
}
