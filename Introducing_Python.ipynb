{
 "cells": [
  {
   "cell_type": "markdown",
   "metadata": {},
   "source": [
    "# <center> **Introducing Python** </center>"
   ]
  },
  {
   "cell_type": "markdown",
   "metadata": {},
   "source": [
    "Python is a powerful opensource programming language. This is really great for scientific programming where you might want to collaborate with people with out overpiced matlab licenses.\n",
    "\n",
    "Here we will show you how to download python and run in on your desktop. And a brief introduction to python!\n",
    "\n",
    "** This whole page is written in a python note book and you will be able to download this file and view all the code for this whole page!**"
   ]
  },
  {
   "cell_type": "markdown",
   "metadata": {},
   "source": [
    "# Intsalation "
   ]
  },
  {
   "cell_type": "markdown",
   "metadata": {},
   "source": [
    "**Download anacoda from [here](https://www.continuum.io/downloads \"Anaconda's Download page\")** Select OS\n",
    "\n",
    "**Python 3.5** 64 bit recommended but check with your supervisor if you are going to be using existing python 2.7. Python 2 and 3 are pretty similiar with some improvements in python 3, the switch from python 2 to 3 is ongoing and in a few years python 2 will be depricated, however if you are using vast amounts of borrowed python 2 code you may consider using python 2. Other wise you can use things like [python2to3](https://docs.python.org/2/library/2to3.html)\n",
    "\n",
    "## MacOSX ##\n",
    "Open a terminal:  ⌘(Command) + Space, type “Terminal” and then hit “Enter”\n",
    "\n",
    "type:\n",
    "\n",
    "```bash\n",
    "cd ~/Downloads/\n",
    "bash Anaconda3-4.1.1-MacOSX-x86_64.sh\n",
    "```\n",
    "\n",
    "Follow the steps in the terminal.\n",
    "\n",
    "*You may need to run*\n",
    "```bash\n",
    "chmod 755 Anaconda-2.0.1-Linux-x86.sh\n",
    "```\n",
    "\n",
    "The installer will add anaconda to your bashrc so you can use it from the terminal with out having to go to the directory where it is installed. \n",
    "\n",
    "*You can tidy up a bit by running:*\n",
    "```bash\n",
    "conda clean -t # Will remove tarballs\n",
    "```\n",
    "\n",
    "## Windows ##\n",
    "Double-click the .exe file to install Anaconda and follow the instructions on the screen. \n",
    "\n",
    "You will need to use the windows command line ([info here](http://www.computerhope.com/issues/chusedos.htm))\n",
    "\n",
    "\n",
    "## Unix ##\n",
    "Open a terminal: Ctrl+Alt+T \n",
    "\n",
    "type:\n",
    "\n",
    "```bash\n",
    "cd ~/Downloads/\n",
    "bash Anaconda3-4.1.1-Linux-x86_64.sh \n",
    "```"
   ]
  },
  {
   "cell_type": "markdown",
   "metadata": {},
   "source": [
    "## Some additional pakages ##\n",
    "\n",
    "Open up a terminal on MacOS or command line on windows\n",
    "```bash\n",
    "conda install jupyter\n",
    "\n",
    "```\n",
    "\n",
    "## Lauching an easy interface to use python ##\n",
    "\n",
    "There are 2 options: Spyder and Notebooks, this whole page is written in a python notebook so you can have a really nice work flow for your coding or you can use Spyder which has an interface just like matlab. Both are described below.\n",
    "\n",
    "\n",
    "Make a new folder where you want to store your python notebooks. I suggest python_notebooks\n",
    "Open up a terminal on MacOS or command line on windows\n",
    "\n",
    "```bash\n",
    "cd python_notebooks\n",
    "jupyter notebook &\n",
    "\n",
    "```\n",
    "\n",
    "Some messages will appear on the screen. You can minimise this."
   ]
  },
  {
   "cell_type": "markdown",
   "metadata": {},
   "source": [
    "# Notebooks # \n",
    "Now you sucessfully lauched jupyter notebooks you can download this file [here]() and have access to this page's code. \n",
    "\n",
    "Place that file in your notebook directory and you will be able to open in from http://localhost:8888 \n",
    "\n",
    "You should see a page like this:\n",
    "![]( https://docs.continuum.io/_images/aen-user-jupyter_main.png \"http://localhost:8888\")\n",
    "\n",
    "* **Files** All files in your folder\n",
    "* **Running** Notebooks files that you have open \n",
    "* **Clusters**  [For parallel processing](https://github.com/hlburns/Notebooks/blob/master/Example_notebooks/Layers_test.ipynb) (not recomended for absolute beginners)\n",
    "* **Conda** Your Anaconda environment what modules are install etc\n",
    "\n",
    "There is some offical documentation [here](http://jupyter-notebook.readthedocs.io/en/latest/notebook.html#opening-notebooks) and great semi interactive introduction [here](https://plot.ly/python/ipython-notebook-tutorial/)\n",
    "\n",
    "**NB** If you have windows and are doing work on the nocs unix server this is an excellent way of being able to ssh in and use a terminal. You will have to set this up on the nocs machines in a similar manar and follow the instructions [here](https://github.com/hlburns/ITintro/wiki/Ipython-Notebooks) (*in progress to being updated to jupyter* )"
   ]
  },
  {
   "cell_type": "markdown",
   "metadata": {},
   "source": [
    "## Markdown\n",
    "Jupyter notebooks  allow you to annotate your code making it very easy to understand the science behind the code, when you want to add text to your code click select \"markdown\" this is a very simple language for text formating that can be converted to htlm (it works sort of like writing your own webpage). Double click on any of the text cells in this notebook for examples of how to do stuff. **A markdown cheat sheet can be found [here](https://github.com/adam-p/markdown-here/wiki/Markdown-Cheatsheet)** (*link example!*)"
   ]
  },
  {
   "cell_type": "markdown",
   "metadata": {},
   "source": [
    "# First steps with python in Jupyter Note books\n",
    "\n",
    "Select New --> Notebooks --> Python (conda root)\n",
    "\n",
    "Now you are ready to start learning python in a really user friendly way. Click [here]() for getting started with python."
   ]
  },
  {
   "cell_type": "markdown",
   "metadata": {},
   "source": [
    "# Spyder\n",
    "Spyder is an excellet GUI interface for python. It works very much like the matlab interface\n",
    "\n",
    "Sypder comes with anaconda so just search through your programmes/applications and it will be there! \n",
    "\n",
    "It looks like this:\n",
    "\n",
    "![](http://i.stack.imgur.com/rb0pK.png)\n",
    "\n",
    "A blow by blow video tutorial on it is found [here](http://datasciencesource.com/python-with-spyder-tutorial/)\n",
    "<a href=\"http://www.youtube.com/watch?feature=player_embedded&v=OPuDjdRjtyY\n",
    "\" target=\"_blank\"><img src=\"http://img.youtube.com/vi/OPuDjdRjtyY/0.jpg\" \n",
    "alt=\"IMAGE ALT TEXT HERE\" width=\"240\" height=\"180\" border=\"10\" /></a>\n",
    "\n",
    "Installing pylint allows you to use sypder to analyse your code for errors and enfore good coding practice.\n",
    "\n",
    "```bash \n",
    "conda install -c anaconda pylint=1.5.4\n",
    "```\n",
    "\n",
    "In spyder you can then press Source --> Run static code analysis\n",
    "\n",
    "It follows the [PeP8](https://www.python.org/dev/peps/pep-0008/) coding style guidelines "
   ]
  }
 ],
 "metadata": {
  "anaconda-cloud": {},
  "kernelspec": {
   "display_name": "Python [conda root]",
   "language": "python",
   "name": "conda-root-py"
  },
  "language_info": {
   "codemirror_mode": {
    "name": "ipython",
    "version": 2
   },
   "file_extension": ".py",
   "mimetype": "text/x-python",
   "name": "python",
   "nbconvert_exporter": "python",
   "pygments_lexer": "ipython2",
   "version": "2.7.12"
  }
 },
 "nbformat": 4,
 "nbformat_minor": 0
}
